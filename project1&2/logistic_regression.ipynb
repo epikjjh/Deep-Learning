{
 "cells": [
  {
   "cell_type": "code",
   "execution_count": 1,
   "metadata": {},
   "outputs": [],
   "source": [
    "from random import randint,random\n",
    "from math import exp, log\n",
    "import time\n",
    "import numpy as np\n",
    "import pandas as pd\n",
    "import matplotlib.pyplot as plt\n",
    "import seaborn as sns\n",
    "\n",
    "plt.style.use('seaborn')\n",
    "sns.set(font_scale=2.5)\n",
    "%matplotlib inline"
   ]
  },
  {
   "cell_type": "markdown",
   "metadata": {},
   "source": [
    "## Make test sets"
   ]
  },
  {
   "cell_type": "code",
   "execution_count": 2,
   "metadata": {},
   "outputs": [],
   "source": [
    "x1_test = []; x2_test = []; y_test = []\n",
    "n = 100\n",
    "for i in range(n):\n",
    "    x1_test.append(randint(-10,10))\n",
    "    x2_test.append(randint(-10,10))\n",
    "    if x1_test[-1]+x2_test[-1] > 0:\n",
    "        y_test.append(1)\n",
    "    else:\n",
    "        y_test.append(0)"
   ]
  },
  {
   "cell_type": "markdown",
   "metadata": {},
   "source": [
    "## Time comparison: element wise vs vectorized version (m=1000, k=100)"
   ]
  },
  {
   "cell_type": "markdown",
   "metadata": {},
   "source": [
    "### Make training sets"
   ]
  },
  {
   "cell_type": "code",
   "execution_count": 3,
   "metadata": {},
   "outputs": [],
   "source": [
    "x1_train = [];  x2_train = []; y_train = []; m = 1000; k = 100\n",
    "for i in range(m):\n",
    "    x1_train.append(randint(-10,10))\n",
    "    x2_train.append(randint(-10,10))\n",
    "    if x1_train[-1]+x2_train[-1] > 0:\n",
    "        y_train.append(1)\n",
    "    else:\n",
    "        y_train.append(0)\n",
    "x_train = np.array([[x1,x2] for x1,x2 in zip(x1_train,x2_train)])\n",
    "x_train = np.swapaxes(x_train,0,1)"
   ]
  },
  {
   "cell_type": "markdown",
   "metadata": {},
   "source": [
    "### Make test set for vectorized version"
   ]
  },
  {
   "cell_type": "code",
   "execution_count": 4,
   "metadata": {},
   "outputs": [],
   "source": [
    "x_test = np.array([np.array([x1,x2]) for x1, x2 in zip(x1_test,x2_test)])\n",
    "x_test = np.swapaxes(x_test,0,1)"
   ]
  },
  {
   "cell_type": "markdown",
   "metadata": {},
   "source": [
    "### Element wise"
   ]
  },
  {
   "cell_type": "code",
   "execution_count": 5,
   "metadata": {},
   "outputs": [
    {
     "name": "stdout",
     "output_type": "stream",
     "text": [
      "0.20941966\n",
      "Test Accuracy: 97.0%\n"
     ]
    }
   ],
   "source": [
    "# alpha = 0.0001\n",
    "time_ret = []\n",
    "\n",
    "w1 = 0; w2 = 0; b = 0; alpha = 0.0001\n",
    "start = time.process_time()\n",
    "for i in range(k):\n",
    "    J = 0; dw1 = 0; dw2 = 0; db = 0; correct = 0\n",
    "    for j in range(m):\n",
    "        # dw1 = x1 * (a-y)\n",
    "        # dw2 = x2 * (a-y)\n",
    "        # db = a-y\n",
    "        z_i = w1*x1_train[j]+w2*x2_train[j]+b\n",
    "        a_i = exp(z_i)/(1+exp(z_i))\n",
    "        # if y_hat > 0.5: set y_hat = 1 (for accuracy evaluation)\n",
    "        if a_i > 0.5:\n",
    "            #a_i = 1\n",
    "            if(y_train[j] == 1):\n",
    "                correct += 1\n",
    "        else:\n",
    "            #a_i = 0\n",
    "            if(y_train[j] == 0):\n",
    "                correct += 1\n",
    "        J += -1*(y_train[j]*log(max(1e-6,a_i)) + (1-y_train[j])*log(max(1e-6,1-a_i)))\n",
    "        dz_i = a_i - y_train[j]\n",
    "        dw1 += x1_train[j]*dz_i\n",
    "        dw2 += x2_train[j]*dz_i\n",
    "        db += dz_i\n",
    "    # Average\n",
    "    J /= m\n",
    "    dw1 /= m\n",
    "    dw2 /= m\n",
    "    db /= m\n",
    "\n",
    "    w1 -= alpha * dw1\n",
    "    w2 -= alpha * dw2\n",
    "    b -= alpha * db\n",
    "    '''\n",
    "    print(\"Training Session: {}\".format(i+1))\n",
    "    print(\"Training Cost: {}\".format(J))\n",
    "    print(\"Training Accuracy: {}%\".format(correct/1000*100))\n",
    "    print(\"W1: {0}, W2: {1}, b: {2}\".format(w1,w2,b))\n",
    "    print(\"====================================================================================\")\n",
    "    '''\n",
    "end = time.process_time()\n",
    "print(end-start)\n",
    "# Test session\n",
    "J = 0 ; correct = 0\n",
    "for i in range(n):\n",
    "    # dw1 = x1 * (a-y)\n",
    "    # dw2 = x2 * (a-y)\n",
    "    # db = a-y\n",
    "    z_i = w1*x1_test[i]+w2*x2_test[i]+b\n",
    "    a_i = exp(z_i)/(1+exp(z_i))\n",
    "    # if y_hat > 0.5: set y_hat = 1 (for accuracy evaluation)\n",
    "    if a_i > 0.5:\n",
    "        #a_i = 1\n",
    "        if(y_test[i] == 1):\n",
    "            correct += 1\n",
    "    else:\n",
    "        #a_i = 0\n",
    "        if(y_test[i] == 0):\n",
    "            correct += 1\n",
    "    J += -1*(y_test[i]*log(max(1e-6,a_i)) + (1-y_test[i])*log(max(1e-6,1-a_i)))\n",
    "\n",
    "# Average\n",
    "J /= n\n",
    "'''\n",
    "print(\"Test Cost: {}\".format(J))\n",
    "print(\"Test Accuracy: {}%\".format(correct/100*100))\n",
    "'''\n",
    "print(\"Test Accuracy: {}%\".format(correct/100*100))"
   ]
  },
  {
   "cell_type": "markdown",
   "metadata": {},
   "source": [
    "### Vectorized"
   ]
  },
  {
   "cell_type": "code",
   "execution_count": 6,
   "metadata": {},
   "outputs": [
    {
     "name": "stdout",
     "output_type": "stream",
     "text": [
      "0.017011446000000152\n",
      "Test Accuracy: 97.0%\n"
     ]
    }
   ],
   "source": [
    "# Train session\n",
    "# alpha = 0.0001\n",
    "w = np.array([0.0, 0.0]); b = 0; alpha = 0.0001\n",
    "start = time.process_time()\n",
    "for i in range(k):\n",
    "    Z = np.dot(w,x_train)+b\n",
    "    A = np.exp(Z)/(1+np.exp(Z))\n",
    "    dZ = A - y_train\n",
    "    dw = np.matmul(x_train,np.transpose(dZ))/m\n",
    "    db = np.sum(dZ)/m\n",
    "    w -= alpha * dw\n",
    "    b -= alpha * db\n",
    "    '''\n",
    "    print(\"Training Session: {}\".format(i+1))\n",
    "    print(\"Training Cost: {}\".format(J))\n",
    "    print(\"Training Accuracy: {}%\".format(correct/1000*100))\n",
    "    print(\"W1: {0}, W2: {1}, b: {2}\".format(w1,w2,b))\n",
    "    print(\"====================================================================================\")\n",
    "    '''\n",
    "end = time.process_time()\n",
    "print(end-start)\n",
    "\n",
    "# Test session\n",
    "correct=0\n",
    "Z = np.dot(w,x_test)+b\n",
    "A = np.exp(Z)/(1+np.exp(Z))\n",
    "for i,a_i in enumerate(A):\n",
    "    if a_i > 0.5:\n",
    "        #a_i = 1\n",
    "        if(y_test[i] == 1):\n",
    "            correct += 1\n",
    "    else:\n",
    "        #a_i = 0\n",
    "        if(y_test[i] == 0):\n",
    "            correct += 1\n",
    "print(\"Test Accuracy: {}%\".format(correct/100*100))"
   ]
  },
  {
   "cell_type": "markdown",
   "metadata": {},
   "source": [
    "## Estimated unknown function parameters w & b"
   ]
  },
  {
   "cell_type": "code",
   "execution_count": 7,
   "metadata": {},
   "outputs": [
    {
     "name": "stdout",
     "output_type": "stream",
     "text": [
      "[0.01670088 0.01710028] -0.00024590951218160154\n"
     ]
    }
   ],
   "source": [
    "print(w,b)"
   ]
  },
  {
   "cell_type": "markdown",
   "metadata": {},
   "source": [
    "## Empirically determined hyper parameter alpha"
   ]
  },
  {
   "cell_type": "code",
   "execution_count": 8,
   "metadata": {},
   "outputs": [
    {
     "data": {
      "image/png": "[encoded data removed]",
      "text/plain": [
       "<Figure size 648x360 with 1 Axes>"
      ]
     },
     "metadata": {
      "needs_background": "light"
     },
     "output_type": "display_data"
    }
   ],
   "source": [
    "w = np.array([0.0, 0.0]); b = 0; m = 1000; k = 100\n",
    "alphas = {random() for i in range(100)}\n",
    "result = {}\n",
    "for alpha in alphas:\n",
    "    for i in range(k):\n",
    "        Z = np.dot(w,x_train)+b\n",
    "        A = np.exp(Z)/(1+np.exp(Z))\n",
    "        dZ = A - y_train\n",
    "        dw = np.matmul(x_train,np.transpose(dZ))/m\n",
    "        db = np.sum(dZ)/m\n",
    "        w -= alpha * dw\n",
    "        b -= alpha * db\n",
    "\n",
    "    # Test session\n",
    "    correct=0\n",
    "    Z = np.dot(w,x_test)+b\n",
    "    A = np.exp(Z)/(1+np.exp(Z))\n",
    "    for i,a_i in enumerate(A):\n",
    "        if a_i > 0.5:\n",
    "            #a_i = 1\n",
    "            if(y_test[i] == 1):\n",
    "                correct += 1\n",
    "        else:\n",
    "            #a_i = 0\n",
    "            if(y_test[i] == 0):\n",
    "                correct += 1\n",
    "    result[alpha] = correct/100*100\n",
    "result = sorted(result.items(), key=lambda x: x[1], reverse=True)\n",
    "data = pd.DataFrame(result, columns=['Alpha', 'Accuracy'])\n",
    "f, ax = plt.subplots(1, 1, figsize=(9,5))\n",
    "sns.kdeplot(data[data['Accuracy']>98]['Alpha'], ax=ax)\n",
    "plt.xlabel(\"Accuracy over 98%\")\n",
    "plt.show()"
   ]
  },
  {
   "cell_type": "markdown",
   "metadata": {},
   "source": [
    "## Accuracy"
   ]
  },
  {
   "cell_type": "markdown",
   "metadata": {},
   "source": [
    "### m = 10,  k = 100"
   ]
  },
  {
   "cell_type": "markdown",
   "metadata": {},
   "source": [
    "### Make training set"
   ]
  },
  {
   "cell_type": "code",
   "execution_count": 9,
   "metadata": {},
   "outputs": [],
   "source": [
    "x1_train = [];  x2_train = []; y_train = []; m = 10; k = 100\n",
    "for i in range(m):\n",
    "    x1_train.append(randint(-10,10))\n",
    "    x2_train.append(randint(-10,10))\n",
    "    if x1_train[-1]+x2_train[-1] > 0:\n",
    "        y_train.append(1)\n",
    "    else:\n",
    "        y_train.append(0)\n",
    "x_train = np.array([[x1,x2] for x1,x2 in zip(x1_train,x2_train)])\n",
    "x_train = np.swapaxes(x_train,0,1)"
   ]
  },
  {
   "cell_type": "code",
   "execution_count": 10,
   "metadata": {},
   "outputs": [
    {
     "name": "stdout",
     "output_type": "stream",
     "text": [
      "Training accuracy: 80.0\n",
      "Test accuracy: 77.0\n"
     ]
    }
   ],
   "source": [
    "# Training session\n",
    "w = np.array([0.0, 0.0]); b = 0; alpha = 0.0001\n",
    "for i in range(k):\n",
    "    Z = np.dot(w,x_train)+b\n",
    "    A = np.exp(Z)/(1+np.exp(Z))\n",
    "    dZ = A - y_train\n",
    "    dw = np.matmul(x_train,np.transpose(dZ))/m\n",
    "    db = np.sum(dZ)/m\n",
    "    w -= alpha * dw\n",
    "    b -= alpha * db\n",
    "\n",
    "# accuracy: test\n",
    "correct=0\n",
    "for i,a_i in enumerate(A):\n",
    "    if a_i > 0.5:\n",
    "        #a_i = 1\n",
    "        if(y_train[i] == 1):\n",
    "            correct += 1\n",
    "    else:\n",
    "        #a_i = 0\n",
    "        if(y_train[i] == 0):\n",
    "            correct += 1\n",
    "print(\"Training accuracy: {}\".format(correct/m*100))\n",
    "\n",
    "# Test session\n",
    "correct=0\n",
    "Z = np.dot(w,x_test)+b\n",
    "A = np.exp(Z)/(1+np.exp(Z))\n",
    "for i,a_i in enumerate(A):\n",
    "    if a_i > 0.5:\n",
    "        #a_i = 1\n",
    "        if(y_test[i] == 1):\n",
    "            correct += 1\n",
    "    else:\n",
    "        #a_i = 0\n",
    "        if(y_test[i] == 0):\n",
    "            correct += 1\n",
    "print(\"Test accuracy: {}\".format(correct/n*100))"
   ]
  },
  {
   "cell_type": "markdown",
   "metadata": {},
   "source": [
    "### m = 100, k = 100"
   ]
  },
  {
   "cell_type": "markdown",
   "metadata": {},
   "source": [
    "### Make training set"
   ]
  },
  {
   "cell_type": "code",
   "execution_count": 11,
   "metadata": {},
   "outputs": [],
   "source": [
    "x1_train = [];  x2_train = []; y_train = []; m = 100; k = 100\n",
    "for i in range(m):\n",
    "    x1_train.append(randint(-10,10))\n",
    "    x2_train.append(randint(-10,10))\n",
    "    if x1_train[-1]+x2_train[-1] > 0:\n",
    "        y_train.append(1)\n",
    "    else:\n",
    "        y_train.append(0)\n",
    "x_train = np.array([[x1,x2] for x1,x2 in zip(x1_train,x2_train)])\n",
    "x_train = np.swapaxes(x_train,0,1)"
   ]
  },
  {
   "cell_type": "code",
   "execution_count": 12,
   "metadata": {},
   "outputs": [
    {
     "name": "stdout",
     "output_type": "stream",
     "text": [
      "Training accuracy: 95.0\n",
      "Test accuracy: 96.0\n"
     ]
    }
   ],
   "source": [
    "# Training session\n",
    "w = np.array([0.0, 0.0]); b = 0; alpha = 0.0001\n",
    "for i in range(k):\n",
    "    Z = np.dot(w,x_train)+b\n",
    "    A = np.exp(Z)/(1+np.exp(Z))\n",
    "    dZ = A - y_train\n",
    "    dw = np.matmul(x_train,np.transpose(dZ))/m\n",
    "    db = np.sum(dZ)/m\n",
    "    w -= alpha * dw\n",
    "    b -= alpha * db\n",
    "\n",
    "# accuracy: test\n",
    "correct=0\n",
    "for i,a_i in enumerate(A):\n",
    "    if a_i > 0.5:\n",
    "        #a_i = 1\n",
    "        if(y_train[i] == 1):\n",
    "            correct += 1\n",
    "    else:\n",
    "        #a_i = 0\n",
    "        if(y_train[i] == 0):\n",
    "            correct += 1\n",
    "print(\"Training accuracy: {}\".format(correct/m*100))\n",
    "\n",
    "# Test session\n",
    "correct=0\n",
    "Z = np.dot(w,x_test)+b\n",
    "A = np.exp(Z)/(1+np.exp(Z))\n",
    "for i,a_i in enumerate(A):\n",
    "    if a_i > 0.5:\n",
    "        #a_i = 1\n",
    "        if(y_test[i] == 1):\n",
    "            correct += 1\n",
    "    else:\n",
    "        #a_i = 0\n",
    "        if(y_test[i] == 0):\n",
    "            correct += 1\n",
    "print(\"Test accuracy: {}\".format(correct/n*100))"
   ]
  },
  {
   "cell_type": "markdown",
   "metadata": {},
   "source": [
    "### m = 1000, k = 100"
   ]
  },
  {
   "cell_type": "code",
   "execution_count": 13,
   "metadata": {},
   "outputs": [],
   "source": [
    "### Make training set"
   ]
  },
  {
   "cell_type": "code",
   "execution_count": 14,
   "metadata": {},
   "outputs": [],
   "source": [
    "x1_train = [];  x2_train = []; y_train = []; m = 1000; k = 100\n",
    "for i in range(m):\n",
    "    x1_train.append(randint(-10,10))\n",
    "    x2_train.append(randint(-10,10))\n",
    "    if x1_train[-1]+x2_train[-1] > 0:\n",
    "        y_train.append(1)\n",
    "    else:\n",
    "        y_train.append(0)\n",
    "x_train = np.array([[x1,x2] for x1,x2 in zip(x1_train,x2_train)])\n",
    "x_train = np.swapaxes(x_train,0,1)"
   ]
  },
  {
   "cell_type": "code",
   "execution_count": 15,
   "metadata": {},
   "outputs": [
    {
     "name": "stdout",
     "output_type": "stream",
     "text": [
      "Training accuracy: 97.3\n",
      "Test accuracy: 100.0\n"
     ]
    }
   ],
   "source": [
    "# Training session\n",
    "w = np.array([0.0, 0.0]); b = 0; alpha = 0.0001\n",
    "for i in range(k):\n",
    "    Z = np.dot(w,x_train)+b\n",
    "    A = np.exp(Z)/(1+np.exp(Z))\n",
    "    dZ = A - y_train\n",
    "    dw = np.matmul(x_train,np.transpose(dZ))/m\n",
    "    db = np.sum(dZ)/m\n",
    "    w -= alpha * dw\n",
    "    b -= alpha * db\n",
    "\n",
    "# accuracy: test\n",
    "correct=0\n",
    "for i,a_i in enumerate(A):\n",
    "    if a_i > 0.5:\n",
    "        #a_i = 1\n",
    "        if(y_train[i] == 1):\n",
    "            correct += 1\n",
    "    else:\n",
    "        #a_i = 0\n",
    "        if(y_train[i] == 0):\n",
    "            correct += 1\n",
    "print(\"Training accuracy: {}\".format(correct/m*100))\n",
    "\n",
    "# Test session\n",
    "correct=0\n",
    "Z = np.dot(w,x_test)+b\n",
    "A = np.exp(Z)/(1+np.exp(Z))\n",
    "for i,a_i in enumerate(A):\n",
    "    if a_i > 0.5:\n",
    "        #a_i = 1\n",
    "        if(y_test[i] == 1):\n",
    "            correct += 1\n",
    "    else:\n",
    "        #a_i = 0\n",
    "        if(y_test[i] == 0):\n",
    "            correct += 1\n",
    "print(\"Test accuracy: {}\".format(correct/n*100))"
   ]
  },
  {
   "cell_type": "markdown",
   "metadata": {},
   "source": [
    "### m = 100, k = 10"
   ]
  },
  {
   "cell_type": "code",
   "execution_count": 16,
   "metadata": {},
   "outputs": [],
   "source": [
    "### Make training set"
   ]
  },
  {
   "cell_type": "code",
   "execution_count": 17,
   "metadata": {},
   "outputs": [],
   "source": [
    "x1_train = [];  x2_train = []; y_train = []; m = 100; k = 10\n",
    "for i in range(m):\n",
    "    x1_train.append(randint(-10,10))\n",
    "    x2_train.append(randint(-10,10))\n",
    "    if x1_train[-1]+x2_train[-1] > 0:\n",
    "        y_train.append(1)\n",
    "    else:\n",
    "        y_train.append(0)\n",
    "x_train = np.array([[x1,x2] for x1,x2 in zip(x1_train,x2_train)])\n",
    "x_train = np.swapaxes(x_train,0,1)"
   ]
  },
  {
   "cell_type": "code",
   "execution_count": 18,
   "metadata": {},
   "outputs": [
    {
     "name": "stdout",
     "output_type": "stream",
     "text": [
      "Training accuracy: 97.0\n",
      "Test accuracy: 98.0\n"
     ]
    }
   ],
   "source": [
    "# Training session\n",
    "w = np.array([0.0, 0.0]); b = 0; alpha = 0.0001\n",
    "for i in range(k):\n",
    "    Z = np.dot(w,x_train)+b\n",
    "    A = np.exp(Z)/(1+np.exp(Z))\n",
    "    dZ = A - y_train\n",
    "    dw = np.matmul(x_train,np.transpose(dZ))/m\n",
    "    db = np.sum(dZ)/m\n",
    "    w -= alpha * dw\n",
    "    b -= alpha * db\n",
    "\n",
    "# accuracy: test\n",
    "correct=0\n",
    "for i,a_i in enumerate(A):\n",
    "    if a_i > 0.5:\n",
    "        #a_i = 1\n",
    "        if(y_train[i] == 1):\n",
    "            correct += 1\n",
    "    else:\n",
    "        #a_i = 0\n",
    "        if(y_train[i] == 0):\n",
    "            correct += 1\n",
    "print(\"Training accuracy: {}\".format(correct/m*100))\n",
    "\n",
    "# Test session\n",
    "correct=0\n",
    "Z = np.dot(w,x_test)+b\n",
    "A = np.exp(Z)/(1+np.exp(Z))\n",
    "for i,a_i in enumerate(A):\n",
    "    if a_i > 0.5:\n",
    "        #a_i = 1\n",
    "        if(y_test[i] == 1):\n",
    "            correct += 1\n",
    "    else:\n",
    "        #a_i = 0\n",
    "        if(y_test[i] == 0):\n",
    "            correct += 1\n",
    "print(\"Test accuracy: {}\".format(correct/n*100))"
   ]
  },
  {
   "cell_type": "markdown",
   "metadata": {},
   "source": [
    "### m = 100, k = 100"
   ]
  },
  {
   "cell_type": "code",
   "execution_count": 19,
   "metadata": {},
   "outputs": [],
   "source": [
    "### Make training set"
   ]
  },
  {
   "cell_type": "code",
   "execution_count": 20,
   "metadata": {},
   "outputs": [],
   "source": [
    "x1_train = [];  x2_train = []; y_train = []; m = 100; k = 100\n",
    "for i in range(m):\n",
    "    x1_train.append(randint(-10,10))\n",
    "    x2_train.append(randint(-10,10))\n",
    "    if x1_train[-1]+x2_train[-1] > 0:\n",
    "        y_train.append(1)\n",
    "    else:\n",
    "        y_train.append(0)\n",
    "x_train = np.array([[x1,x2] for x1,x2 in zip(x1_train,x2_train)])\n",
    "x_train = np.swapaxes(x_train,0,1)"
   ]
  },
  {
   "cell_type": "code",
   "execution_count": 21,
   "metadata": {},
   "outputs": [
    {
     "name": "stdout",
     "output_type": "stream",
     "text": [
      "Training accuracy: 97.0\n",
      "Test accuracy: 98.0\n"
     ]
    }
   ],
   "source": [
    "# Training session\n",
    "w = np.array([0.0, 0.0]); b = 0; alpha = 0.0001\n",
    "for i in range(k):\n",
    "    Z = np.dot(w,x_train)+b\n",
    "    A = np.exp(Z)/(1+np.exp(Z))\n",
    "    dZ = A - y_train\n",
    "    dw = np.matmul(x_train,np.transpose(dZ))/m\n",
    "    db = np.sum(dZ)/m\n",
    "    w -= alpha * dw\n",
    "    b -= alpha * db\n",
    "\n",
    "# accuracy: test\n",
    "correct=0\n",
    "for i,a_i in enumerate(A):\n",
    "    if a_i > 0.5:\n",
    "        #a_i = 1\n",
    "        if(y_train[i] == 1):\n",
    "            correct += 1\n",
    "    else:\n",
    "        #a_i = 0\n",
    "        if(y_train[i] == 0):\n",
    "            correct += 1\n",
    "print(\"Training accuracy: {}\".format(correct/m*100))\n",
    "\n",
    "# Test session\n",
    "correct=0\n",
    "Z = np.dot(w,x_test)+b\n",
    "A = np.exp(Z)/(1+np.exp(Z))\n",
    "for i,a_i in enumerate(A):\n",
    "    if a_i > 0.5:\n",
    "        #a_i = 1\n",
    "        if(y_test[i] == 1):\n",
    "            correct += 1\n",
    "    else:\n",
    "        #a_i = 0\n",
    "        if(y_test[i] == 0):\n",
    "            correct += 1\n",
    "print(\"Test accuracy: {}\".format(correct/n*100))"
   ]
  },
  {
   "cell_type": "markdown",
   "metadata": {},
   "source": [
    "### m = 100, k = 1000"
   ]
  },
  {
   "cell_type": "code",
   "execution_count": 22,
   "metadata": {},
   "outputs": [],
   "source": [
    "### Make training set"
   ]
  },
  {
   "cell_type": "code",
   "execution_count": 23,
   "metadata": {},
   "outputs": [],
   "source": [
    "x1_train = [];  x2_train = []; y_train = []; m = 100; k = 1000\n",
    "for i in range(m):\n",
    "    x1_train.append(randint(-10,10))\n",
    "    x2_train.append(randint(-10,10))\n",
    "    if x1_train[-1]+x2_train[-1] > 0:\n",
    "        y_train.append(1)\n",
    "    else:\n",
    "        y_train.append(0)\n",
    "x_train = np.array([[x1,x2] for x1,x2 in zip(x1_train,x2_train)])\n",
    "x_train = np.swapaxes(x_train,0,1)"
   ]
  },
  {
   "cell_type": "code",
   "execution_count": 24,
   "metadata": {},
   "outputs": [
    {
     "name": "stdout",
     "output_type": "stream",
     "text": [
      "Training accuracy: 94.0\n",
      "Test accuracy: 98.0\n"
     ]
    }
   ],
   "source": [
    "# Training session\n",
    "w = np.array([0.0, 0.0]); b = 0; alpha = 0.0001\n",
    "for i in range(k):\n",
    "    Z = np.dot(w,x_train)+b\n",
    "    A = np.exp(Z)/(1+np.exp(Z))\n",
    "    dZ = A - y_train\n",
    "    dw = np.matmul(x_train,np.transpose(dZ))/m\n",
    "    db = np.sum(dZ)/m\n",
    "    w -= alpha * dw\n",
    "    b -= alpha * db\n",
    "\n",
    "# accuracy: test\n",
    "correct=0\n",
    "for i,a_i in enumerate(A):\n",
    "    if a_i > 0.5:\n",
    "        #a_i = 1\n",
    "        if(y_train[i] == 1):\n",
    "            correct += 1\n",
    "    else:\n",
    "        #a_i = 0\n",
    "        if(y_train[i] == 0):\n",
    "            correct += 1\n",
    "print(\"Training accuracy: {}\".format(correct/m*100))\n",
    "\n",
    "# Test session\n",
    "correct=0\n",
    "Z = np.dot(w,x_test)+b\n",
    "A = np.exp(Z)/(1+np.exp(Z))\n",
    "for i,a_i in enumerate(A):\n",
    "    if a_i > 0.5:\n",
    "        #a_i = 1\n",
    "        if(y_test[i] == 1):\n",
    "            correct += 1\n",
    "    else:\n",
    "        #a_i = 0\n",
    "        if(y_test[i] == 0):\n",
    "            correct += 1\n",
    "print(\"Test accuracy: {}\".format(correct/n*100))"
   ]
  },
  {
   "cell_type": "code",
   "execution_count": null,
   "metadata": {},
   "outputs": [],
   "source": []
  }
 ],
 "metadata": {
  "kernelspec": {
   "display_name": "Python 3",
   "language": "python",
   "name": "python3"
  },
  "language_info": {
   "codemirror_mode": {
    "name": "ipython",
    "version": 3
   },
   "file_extension": ".py",
   "mimetype": "text/x-python",
   "name": "python",
   "nbconvert_exporter": "python",
   "pygments_lexer": "ipython3",
   "version": "3.6.9"
  }
 },
 "nbformat": 4,
 "nbformat_minor": 4
}
